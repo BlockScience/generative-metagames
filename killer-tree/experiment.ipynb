{
 "cells": [
  {
   "cell_type": "markdown",
   "metadata": {},
   "source": [
    "# cadCAD Experiment"
   ]
  },
  {
   "cell_type": "code",
   "execution_count": 1,
   "metadata": {},
   "outputs": [
    {
     "name": "stdout",
     "output_type": "stream",
     "text": [
      "\n",
      "                  ___________    ____\n",
      "  ________ __ ___/ / ____/   |  / __ \\\n",
      " / ___/ __` / __  / /   / /| | / / / /\n",
      "/ /__/ /_/ / /_/ / /___/ ___ |/ /_/ /\n",
      "\\___/\\__,_/\\__,_/\\____/_/  |_/_____/\n",
      "by cadCAD\n",
      "\n",
      "Execution Mode: local_proc\n",
      "Configuration Count: 1\n",
      "Dimensions of the first simulation: (Timesteps, Params, Runs, Vars) = (10, 5, 1, 3)\n",
      "Execution Method: local_simulations\n",
      "SimIDs   : [0]\n",
      "SubsetIDs: [0]\n",
      "Ns       : [0]\n",
      "ExpIDs   : [0]\n",
      "Execution Mode: single_threaded\n",
      "{}\n",
      "The likelihood the tree get's sick is 0.001\n",
      "The outcome for the tree getting sick is 0\n",
      "{'sick': 0}\n",
      "{'poison': False, 'sick': 0}\n",
      "The likelihood the tree dying is 0.0\n",
      "The outcome for the tree dying sick is 0\n",
      "[{'Agent': <model.behavior.Alice object at 0x7fba88982130>, 'Poison Tree Decision': False, 'Build Patio Decision': False, 'Effort Utility': 0, 'View Utility': 0}, {'Tree Sick Outcome': 0, 'Tree Dead Outcome': 0}]\n",
      "[{'Agent': <model.behavior.Bob object at 0x7fba88982970>, 'Tree Doctor Decision': True, 'Cost Utility': -1, 'Tree Utility': 2}, {'Tree Sick Outcome': 0, 'Tree Dead Outcome': 0}]\n",
      "{}\n",
      "The likelihood the tree get's sick is 0.5005\n",
      "The outcome for the tree getting sick is 0\n",
      "{'sick': 0}\n",
      "{'poison': True, 'sick': 0}\n",
      "The likelihood the tree dying is 0.0\n",
      "The outcome for the tree dying sick is 0\n",
      "[{'Agent': <model.behavior.Alice object at 0x7fba88982c70>, 'Poison Tree Decision': True, 'Build Patio Decision': True, 'Effort Utility': -1, 'View Utility': 0}, {'Tree Sick Outcome': 0, 'Tree Dead Outcome': 0}]\n",
      "[{'Agent': <model.behavior.Bob object at 0x7fba889aa070>, 'Tree Doctor Decision': True, 'Cost Utility': -1, 'Tree Utility': 2}, {'Tree Sick Outcome': 0, 'Tree Dead Outcome': 0}]\n",
      "{}\n",
      "The likelihood the tree get's sick is 0.001\n",
      "The outcome for the tree getting sick is 0\n",
      "{'sick': 0}\n",
      "{'poison': False, 'sick': 0}\n",
      "The likelihood the tree dying is 0.0\n",
      "The outcome for the tree dying sick is 0\n",
      "[{'Agent': <model.behavior.Alice object at 0x7fba889aa700>, 'Poison Tree Decision': False, 'Build Patio Decision': True, 'Effort Utility': 0, 'View Utility': 0}, {'Tree Sick Outcome': 0, 'Tree Dead Outcome': 0}]\n",
      "[{'Agent': <model.behavior.Bob object at 0x7fba889aaac0>, 'Tree Doctor Decision': False, 'Cost Utility': 0, 'Tree Utility': 2}, {'Tree Sick Outcome': 0, 'Tree Dead Outcome': 0}]\n",
      "{}\n",
      "The likelihood the tree get's sick is 0.5005\n",
      "The outcome for the tree getting sick is 1\n",
      "{'sick': 1}\n",
      "{'poison': True, 'sick': 1}\n",
      "The likelihood the tree dying is 1.0\n",
      "The outcome for the tree dying sick is 1\n",
      "[{'Agent': <model.behavior.Alice object at 0x7fba889aa850>, 'Poison Tree Decision': True, 'Build Patio Decision': False, 'Effort Utility': -1, 'View Utility': 0}, {'Tree Sick Outcome': 1, 'Tree Dead Outcome': 1}]\n",
      "[{'Agent': <model.behavior.Bob object at 0x7fba889aa880>, 'Tree Doctor Decision': True, 'Cost Utility': -1, 'Tree Utility': 0}, {'Tree Sick Outcome': 1, 'Tree Dead Outcome': 1}]\n",
      "{}\n",
      "The likelihood the tree get's sick is 0.001\n",
      "The outcome for the tree getting sick is 0\n",
      "{'sick': 0}\n",
      "{'poison': False, 'sick': 0}\n",
      "The likelihood the tree dying is 0.0\n",
      "The outcome for the tree dying sick is 0\n",
      "[{'Agent': <model.behavior.Alice object at 0x7fba88982d90>, 'Poison Tree Decision': False, 'Build Patio Decision': False, 'Effort Utility': 0, 'View Utility': 0}, {'Tree Sick Outcome': 0, 'Tree Dead Outcome': 0}]\n",
      "[{'Agent': <model.behavior.Bob object at 0x7fba88982af0>, 'Tree Doctor Decision': False, 'Cost Utility': 0, 'Tree Utility': 2}, {'Tree Sick Outcome': 0, 'Tree Dead Outcome': 0}]\n",
      "{}\n",
      "The likelihood the tree get's sick is 0.001\n",
      "The outcome for the tree getting sick is 0\n",
      "{'sick': 0}\n",
      "{'poison': False, 'sick': 0}\n",
      "The likelihood the tree dying is 0.0\n",
      "The outcome for the tree dying sick is 0\n",
      "[{'Agent': <model.behavior.Alice object at 0x7fba889aac70>, 'Poison Tree Decision': False, 'Build Patio Decision': False, 'Effort Utility': 0, 'View Utility': 0}, {'Tree Sick Outcome': 0, 'Tree Dead Outcome': 0}]\n",
      "[{'Agent': <model.behavior.Bob object at 0x7fba889aa4c0>, 'Tree Doctor Decision': True, 'Cost Utility': -1, 'Tree Utility': 2}, {'Tree Sick Outcome': 0, 'Tree Dead Outcome': 0}]\n",
      "{}\n",
      "The likelihood the tree get's sick is 0.5005\n",
      "The outcome for the tree getting sick is 0\n",
      "{'sick': 0}\n",
      "{'poison': True, 'sick': 0}\n",
      "The likelihood the tree dying is 0.0\n",
      "The outcome for the tree dying sick is 0\n",
      "[{'Agent': <model.behavior.Alice object at 0x7fba889aac40>, 'Poison Tree Decision': True, 'Build Patio Decision': True, 'Effort Utility': -1, 'View Utility': 0}, {'Tree Sick Outcome': 0, 'Tree Dead Outcome': 0}]\n",
      "[{'Agent': <model.behavior.Bob object at 0x7fba889aa940>, 'Tree Doctor Decision': True, 'Cost Utility': -1, 'Tree Utility': 2}, {'Tree Sick Outcome': 0, 'Tree Dead Outcome': 0}]\n",
      "{}\n",
      "The likelihood the tree get's sick is 0.001\n",
      "The outcome for the tree getting sick is 0\n",
      "{'sick': 0}\n",
      "{'poison': False, 'sick': 0}\n",
      "The likelihood the tree dying is 0.0\n",
      "The outcome for the tree dying sick is 0\n",
      "[{'Agent': <model.behavior.Alice object at 0x7fba889b1610>, 'Poison Tree Decision': False, 'Build Patio Decision': True, 'Effort Utility': 0, 'View Utility': 0}, {'Tree Sick Outcome': 0, 'Tree Dead Outcome': 0}]\n",
      "[{'Agent': <model.behavior.Bob object at 0x7fba889b1460>, 'Tree Doctor Decision': True, 'Cost Utility': -1, 'Tree Utility': 2}, {'Tree Sick Outcome': 0, 'Tree Dead Outcome': 0}]\n",
      "{}\n",
      "The likelihood the tree get's sick is 0.5005\n",
      "The outcome for the tree getting sick is 1\n",
      "{'sick': 1}\n",
      "{'poison': True, 'sick': 1}\n",
      "The likelihood the tree dying is 0.5\n",
      "The outcome for the tree dying sick is 0\n",
      "[{'Agent': <model.behavior.Alice object at 0x7fba889b1070>, 'Poison Tree Decision': True, 'Build Patio Decision': True, 'Effort Utility': -1, 'View Utility': 0}, {'Tree Sick Outcome': 1, 'Tree Dead Outcome': 0}]\n",
      "[{'Agent': <model.behavior.Bob object at 0x7fba889b1b80>, 'Tree Doctor Decision': False, 'Cost Utility': 0, 'Tree Utility': 2}, {'Tree Sick Outcome': 1, 'Tree Dead Outcome': 0}]\n",
      "{}\n",
      "The likelihood the tree get's sick is 0.5005\n",
      "The outcome for the tree getting sick is 1\n",
      "{'sick': 1}\n",
      "{'poison': True, 'sick': 1}\n",
      "The likelihood the tree dying is 1.0\n",
      "The outcome for the tree dying sick is 1\n",
      "[{'Agent': <model.behavior.Alice object at 0x7fba889aaaf0>, 'Poison Tree Decision': True, 'Build Patio Decision': False, 'Effort Utility': -1, 'View Utility': 0}, {'Tree Sick Outcome': 1, 'Tree Dead Outcome': 1}]\n",
      "[{'Agent': <model.behavior.Bob object at 0x7fba889b1220>, 'Tree Doctor Decision': False, 'Cost Utility': 0, 'Tree Utility': 0}, {'Tree Sick Outcome': 1, 'Tree Dead Outcome': 1}]\n",
      "Total execution time: 0.01s\n",
      "                                                Alice  \\\n",
      "3   {'Agent': <model.behavior.Alice object at 0x7f...   \n",
      "6   {'Agent': <model.behavior.Alice object at 0x7f...   \n",
      "9   {'Agent': <model.behavior.Alice object at 0x7f...   \n",
      "12  {'Agent': <model.behavior.Alice object at 0x7f...   \n",
      "15  {'Agent': <model.behavior.Alice object at 0x7f...   \n",
      "18  {'Agent': <model.behavior.Alice object at 0x7f...   \n",
      "21  {'Agent': <model.behavior.Alice object at 0x7f...   \n",
      "24  {'Agent': <model.behavior.Alice object at 0x7f...   \n",
      "27  {'Agent': <model.behavior.Alice object at 0x7f...   \n",
      "30  {'Agent': <model.behavior.Alice object at 0x7f...   \n",
      "\n",
      "                                                  Bob  \\\n",
      "3   {'Agent': <model.behavior.Bob object at 0x7fba...   \n",
      "6   {'Agent': <model.behavior.Bob object at 0x7fba...   \n",
      "9   {'Agent': <model.behavior.Bob object at 0x7fba...   \n",
      "12  {'Agent': <model.behavior.Bob object at 0x7fba...   \n",
      "15  {'Agent': <model.behavior.Bob object at 0x7fba...   \n",
      "18  {'Agent': <model.behavior.Bob object at 0x7fba...   \n",
      "21  {'Agent': <model.behavior.Bob object at 0x7fba...   \n",
      "24  {'Agent': <model.behavior.Bob object at 0x7fba...   \n",
      "27  {'Agent': <model.behavior.Bob object at 0x7fba...   \n",
      "30  {'Agent': <model.behavior.Bob object at 0x7fba...   \n",
      "\n",
      "                                               World  simulation  subset  run  \\\n",
      "3   {'Tree Sick Outcome': 0, 'Tree Dead Outcome': 0}           0       0    1   \n",
      "6   {'Tree Sick Outcome': 0, 'Tree Dead Outcome': 0}           0       0    1   \n",
      "9   {'Tree Sick Outcome': 0, 'Tree Dead Outcome': 0}           0       0    1   \n",
      "12  {'Tree Sick Outcome': 1, 'Tree Dead Outcome': 1}           0       0    1   \n",
      "15  {'Tree Sick Outcome': 0, 'Tree Dead Outcome': 0}           0       0    1   \n",
      "18  {'Tree Sick Outcome': 0, 'Tree Dead Outcome': 0}           0       0    1   \n",
      "21  {'Tree Sick Outcome': 0, 'Tree Dead Outcome': 0}           0       0    1   \n",
      "24  {'Tree Sick Outcome': 0, 'Tree Dead Outcome': 0}           0       0    1   \n",
      "27  {'Tree Sick Outcome': 1, 'Tree Dead Outcome': 0}           0       0    1   \n",
      "30  {'Tree Sick Outcome': 1, 'Tree Dead Outcome': 1}           0       0    1   \n",
      "\n",
      "    substep  timestep  \n",
      "3         3         1  \n",
      "6         3         2  \n",
      "9         3         3  \n",
      "12        3         4  \n",
      "15        3         5  \n",
      "18        3         6  \n",
      "21        3         7  \n",
      "24        3         8  \n",
      "27        3         9  \n",
      "30        3        10  \n"
     ]
    }
   ],
   "source": [
    "from model import run\n",
    "\n",
    "df = run.run()\n",
    "\n",
    "print(df)"
   ]
  },
  {
   "cell_type": "code",
   "execution_count": 2,
   "metadata": {},
   "outputs": [],
   "source": [
    "import pandas as pd\n",
    "import matplotlib.pyplot as plt"
   ]
  },
  {
   "cell_type": "code",
   "execution_count": 3,
   "metadata": {},
   "outputs": [
    {
     "data": {
      "text/html": [
       "<div>\n",
       "<style scoped>\n",
       "    .dataframe tbody tr th:only-of-type {\n",
       "        vertical-align: middle;\n",
       "    }\n",
       "\n",
       "    .dataframe tbody tr th {\n",
       "        vertical-align: top;\n",
       "    }\n",
       "\n",
       "    .dataframe thead th {\n",
       "        text-align: right;\n",
       "    }\n",
       "</style>\n",
       "<table border=\"1\" class=\"dataframe\">\n",
       "  <thead>\n",
       "    <tr style=\"text-align: right;\">\n",
       "      <th></th>\n",
       "      <th>Alice</th>\n",
       "      <th>Bob</th>\n",
       "      <th>World</th>\n",
       "      <th>simulation</th>\n",
       "      <th>subset</th>\n",
       "      <th>run</th>\n",
       "      <th>substep</th>\n",
       "      <th>timestep</th>\n",
       "    </tr>\n",
       "  </thead>\n",
       "  <tbody>\n",
       "    <tr>\n",
       "      <th>3</th>\n",
       "      <td>{'Agent': &lt;model.behavior.Alice object at 0x7f...</td>\n",
       "      <td>{'Agent': &lt;model.behavior.Bob object at 0x7fba...</td>\n",
       "      <td>{'Tree Sick Outcome': 0, 'Tree Dead Outcome': 0}</td>\n",
       "      <td>0</td>\n",
       "      <td>0</td>\n",
       "      <td>1</td>\n",
       "      <td>3</td>\n",
       "      <td>1</td>\n",
       "    </tr>\n",
       "    <tr>\n",
       "      <th>6</th>\n",
       "      <td>{'Agent': &lt;model.behavior.Alice object at 0x7f...</td>\n",
       "      <td>{'Agent': &lt;model.behavior.Bob object at 0x7fba...</td>\n",
       "      <td>{'Tree Sick Outcome': 0, 'Tree Dead Outcome': 0}</td>\n",
       "      <td>0</td>\n",
       "      <td>0</td>\n",
       "      <td>1</td>\n",
       "      <td>3</td>\n",
       "      <td>2</td>\n",
       "    </tr>\n",
       "    <tr>\n",
       "      <th>9</th>\n",
       "      <td>{'Agent': &lt;model.behavior.Alice object at 0x7f...</td>\n",
       "      <td>{'Agent': &lt;model.behavior.Bob object at 0x7fba...</td>\n",
       "      <td>{'Tree Sick Outcome': 0, 'Tree Dead Outcome': 0}</td>\n",
       "      <td>0</td>\n",
       "      <td>0</td>\n",
       "      <td>1</td>\n",
       "      <td>3</td>\n",
       "      <td>3</td>\n",
       "    </tr>\n",
       "    <tr>\n",
       "      <th>12</th>\n",
       "      <td>{'Agent': &lt;model.behavior.Alice object at 0x7f...</td>\n",
       "      <td>{'Agent': &lt;model.behavior.Bob object at 0x7fba...</td>\n",
       "      <td>{'Tree Sick Outcome': 1, 'Tree Dead Outcome': 1}</td>\n",
       "      <td>0</td>\n",
       "      <td>0</td>\n",
       "      <td>1</td>\n",
       "      <td>3</td>\n",
       "      <td>4</td>\n",
       "    </tr>\n",
       "    <tr>\n",
       "      <th>15</th>\n",
       "      <td>{'Agent': &lt;model.behavior.Alice object at 0x7f...</td>\n",
       "      <td>{'Agent': &lt;model.behavior.Bob object at 0x7fba...</td>\n",
       "      <td>{'Tree Sick Outcome': 0, 'Tree Dead Outcome': 0}</td>\n",
       "      <td>0</td>\n",
       "      <td>0</td>\n",
       "      <td>1</td>\n",
       "      <td>3</td>\n",
       "      <td>5</td>\n",
       "    </tr>\n",
       "    <tr>\n",
       "      <th>18</th>\n",
       "      <td>{'Agent': &lt;model.behavior.Alice object at 0x7f...</td>\n",
       "      <td>{'Agent': &lt;model.behavior.Bob object at 0x7fba...</td>\n",
       "      <td>{'Tree Sick Outcome': 0, 'Tree Dead Outcome': 0}</td>\n",
       "      <td>0</td>\n",
       "      <td>0</td>\n",
       "      <td>1</td>\n",
       "      <td>3</td>\n",
       "      <td>6</td>\n",
       "    </tr>\n",
       "    <tr>\n",
       "      <th>21</th>\n",
       "      <td>{'Agent': &lt;model.behavior.Alice object at 0x7f...</td>\n",
       "      <td>{'Agent': &lt;model.behavior.Bob object at 0x7fba...</td>\n",
       "      <td>{'Tree Sick Outcome': 0, 'Tree Dead Outcome': 0}</td>\n",
       "      <td>0</td>\n",
       "      <td>0</td>\n",
       "      <td>1</td>\n",
       "      <td>3</td>\n",
       "      <td>7</td>\n",
       "    </tr>\n",
       "    <tr>\n",
       "      <th>24</th>\n",
       "      <td>{'Agent': &lt;model.behavior.Alice object at 0x7f...</td>\n",
       "      <td>{'Agent': &lt;model.behavior.Bob object at 0x7fba...</td>\n",
       "      <td>{'Tree Sick Outcome': 0, 'Tree Dead Outcome': 0}</td>\n",
       "      <td>0</td>\n",
       "      <td>0</td>\n",
       "      <td>1</td>\n",
       "      <td>3</td>\n",
       "      <td>8</td>\n",
       "    </tr>\n",
       "    <tr>\n",
       "      <th>27</th>\n",
       "      <td>{'Agent': &lt;model.behavior.Alice object at 0x7f...</td>\n",
       "      <td>{'Agent': &lt;model.behavior.Bob object at 0x7fba...</td>\n",
       "      <td>{'Tree Sick Outcome': 1, 'Tree Dead Outcome': 0}</td>\n",
       "      <td>0</td>\n",
       "      <td>0</td>\n",
       "      <td>1</td>\n",
       "      <td>3</td>\n",
       "      <td>9</td>\n",
       "    </tr>\n",
       "    <tr>\n",
       "      <th>30</th>\n",
       "      <td>{'Agent': &lt;model.behavior.Alice object at 0x7f...</td>\n",
       "      <td>{'Agent': &lt;model.behavior.Bob object at 0x7fba...</td>\n",
       "      <td>{'Tree Sick Outcome': 1, 'Tree Dead Outcome': 1}</td>\n",
       "      <td>0</td>\n",
       "      <td>0</td>\n",
       "      <td>1</td>\n",
       "      <td>3</td>\n",
       "      <td>10</td>\n",
       "    </tr>\n",
       "  </tbody>\n",
       "</table>\n",
       "</div>"
      ],
      "text/plain": [
       "                                                Alice  \\\n",
       "3   {'Agent': <model.behavior.Alice object at 0x7f...   \n",
       "6   {'Agent': <model.behavior.Alice object at 0x7f...   \n",
       "9   {'Agent': <model.behavior.Alice object at 0x7f...   \n",
       "12  {'Agent': <model.behavior.Alice object at 0x7f...   \n",
       "15  {'Agent': <model.behavior.Alice object at 0x7f...   \n",
       "18  {'Agent': <model.behavior.Alice object at 0x7f...   \n",
       "21  {'Agent': <model.behavior.Alice object at 0x7f...   \n",
       "24  {'Agent': <model.behavior.Alice object at 0x7f...   \n",
       "27  {'Agent': <model.behavior.Alice object at 0x7f...   \n",
       "30  {'Agent': <model.behavior.Alice object at 0x7f...   \n",
       "\n",
       "                                                  Bob  \\\n",
       "3   {'Agent': <model.behavior.Bob object at 0x7fba...   \n",
       "6   {'Agent': <model.behavior.Bob object at 0x7fba...   \n",
       "9   {'Agent': <model.behavior.Bob object at 0x7fba...   \n",
       "12  {'Agent': <model.behavior.Bob object at 0x7fba...   \n",
       "15  {'Agent': <model.behavior.Bob object at 0x7fba...   \n",
       "18  {'Agent': <model.behavior.Bob object at 0x7fba...   \n",
       "21  {'Agent': <model.behavior.Bob object at 0x7fba...   \n",
       "24  {'Agent': <model.behavior.Bob object at 0x7fba...   \n",
       "27  {'Agent': <model.behavior.Bob object at 0x7fba...   \n",
       "30  {'Agent': <model.behavior.Bob object at 0x7fba...   \n",
       "\n",
       "                                               World  simulation  subset  run  \\\n",
       "3   {'Tree Sick Outcome': 0, 'Tree Dead Outcome': 0}           0       0    1   \n",
       "6   {'Tree Sick Outcome': 0, 'Tree Dead Outcome': 0}           0       0    1   \n",
       "9   {'Tree Sick Outcome': 0, 'Tree Dead Outcome': 0}           0       0    1   \n",
       "12  {'Tree Sick Outcome': 1, 'Tree Dead Outcome': 1}           0       0    1   \n",
       "15  {'Tree Sick Outcome': 0, 'Tree Dead Outcome': 0}           0       0    1   \n",
       "18  {'Tree Sick Outcome': 0, 'Tree Dead Outcome': 0}           0       0    1   \n",
       "21  {'Tree Sick Outcome': 0, 'Tree Dead Outcome': 0}           0       0    1   \n",
       "24  {'Tree Sick Outcome': 0, 'Tree Dead Outcome': 0}           0       0    1   \n",
       "27  {'Tree Sick Outcome': 1, 'Tree Dead Outcome': 0}           0       0    1   \n",
       "30  {'Tree Sick Outcome': 1, 'Tree Dead Outcome': 1}           0       0    1   \n",
       "\n",
       "    substep  timestep  \n",
       "3         3         1  \n",
       "6         3         2  \n",
       "9         3         3  \n",
       "12        3         4  \n",
       "15        3         5  \n",
       "18        3         6  \n",
       "21        3         7  \n",
       "24        3         8  \n",
       "27        3         9  \n",
       "30        3        10  "
      ]
     },
     "execution_count": 3,
     "metadata": {},
     "output_type": "execute_result"
    }
   ],
   "source": [
    "df"
   ]
  },
  {
   "cell_type": "code",
   "execution_count": 4,
   "metadata": {},
   "outputs": [],
   "source": [
    "alice_data = df[df.substep==3].Alice.values"
   ]
  },
  {
   "cell_type": "code",
   "execution_count": 5,
   "metadata": {},
   "outputs": [
    {
     "data": {
      "text/plain": [
       "array([{'Agent': <model.behavior.Alice object at 0x7fba88982130>, 'Poison Tree Decision': False, 'Build Patio Decision': False, 'Effort Utility': 0, 'View Utility': 0},\n",
       "       {'Agent': <model.behavior.Alice object at 0x7fba88982c70>, 'Poison Tree Decision': True, 'Build Patio Decision': True, 'Effort Utility': -1, 'View Utility': 0},\n",
       "       {'Agent': <model.behavior.Alice object at 0x7fba889aa700>, 'Poison Tree Decision': False, 'Build Patio Decision': True, 'Effort Utility': 0, 'View Utility': 0},\n",
       "       {'Agent': <model.behavior.Alice object at 0x7fba889aa850>, 'Poison Tree Decision': True, 'Build Patio Decision': False, 'Effort Utility': -1, 'View Utility': 0},\n",
       "       {'Agent': <model.behavior.Alice object at 0x7fba88982d90>, 'Poison Tree Decision': False, 'Build Patio Decision': False, 'Effort Utility': 0, 'View Utility': 0},\n",
       "       {'Agent': <model.behavior.Alice object at 0x7fba889aac70>, 'Poison Tree Decision': False, 'Build Patio Decision': False, 'Effort Utility': 0, 'View Utility': 0},\n",
       "       {'Agent': <model.behavior.Alice object at 0x7fba889aac40>, 'Poison Tree Decision': True, 'Build Patio Decision': True, 'Effort Utility': -1, 'View Utility': 0},\n",
       "       {'Agent': <model.behavior.Alice object at 0x7fba889b1610>, 'Poison Tree Decision': False, 'Build Patio Decision': True, 'Effort Utility': 0, 'View Utility': 0},\n",
       "       {'Agent': <model.behavior.Alice object at 0x7fba889b1070>, 'Poison Tree Decision': True, 'Build Patio Decision': True, 'Effort Utility': -1, 'View Utility': 0},\n",
       "       {'Agent': <model.behavior.Alice object at 0x7fba889aaaf0>, 'Poison Tree Decision': True, 'Build Patio Decision': False, 'Effort Utility': -1, 'View Utility': 0}],\n",
       "      dtype=object)"
      ]
     },
     "execution_count": 5,
     "metadata": {},
     "output_type": "execute_result"
    }
   ],
   "source": [
    "alice_data"
   ]
  },
  {
   "cell_type": "code",
   "execution_count": 6,
   "metadata": {},
   "outputs": [],
   "source": [
    "alice_keys = alice_data[0].keys()"
   ]
  },
  {
   "cell_type": "code",
   "execution_count": 7,
   "metadata": {},
   "outputs": [
    {
     "data": {
      "text/plain": [
       "dict_keys(['Agent', 'Poison Tree Decision', 'Build Patio Decision', 'Effort Utility', 'View Utility'])"
      ]
     },
     "execution_count": 7,
     "metadata": {},
     "output_type": "execute_result"
    }
   ],
   "source": [
    "alice_keys"
   ]
  },
  {
   "cell_type": "code",
   "execution_count": 8,
   "metadata": {},
   "outputs": [],
   "source": [
    "world_data = df[df.substep==3].World.values"
   ]
  },
  {
   "cell_type": "code",
   "execution_count": 9,
   "metadata": {},
   "outputs": [],
   "source": [
    "world_keys = world_data[0].keys()"
   ]
  },
  {
   "cell_type": "code",
   "execution_count": 10,
   "metadata": {},
   "outputs": [
    {
     "data": {
      "text/plain": [
       "dict_keys(['Tree Sick Outcome', 'Tree Dead Outcome'])"
      ]
     },
     "execution_count": 10,
     "metadata": {},
     "output_type": "execute_result"
    }
   ],
   "source": [
    "world_keys"
   ]
  },
  {
   "cell_type": "code",
   "execution_count": 11,
   "metadata": {},
   "outputs": [],
   "source": [
    "bob_data = df[df.substep==3].Bob.values"
   ]
  },
  {
   "cell_type": "code",
   "execution_count": 12,
   "metadata": {},
   "outputs": [
    {
     "data": {
      "text/plain": [
       "array([{'Agent': <model.behavior.Bob object at 0x7fba88982970>, 'Tree Doctor Decision': True, 'Cost Utility': -1, 'Tree Utility': 2},\n",
       "       {'Agent': <model.behavior.Bob object at 0x7fba889aa070>, 'Tree Doctor Decision': True, 'Cost Utility': -1, 'Tree Utility': 2},\n",
       "       {'Agent': <model.behavior.Bob object at 0x7fba889aaac0>, 'Tree Doctor Decision': False, 'Cost Utility': 0, 'Tree Utility': 2},\n",
       "       {'Agent': <model.behavior.Bob object at 0x7fba889aa880>, 'Tree Doctor Decision': True, 'Cost Utility': -1, 'Tree Utility': 0},\n",
       "       {'Agent': <model.behavior.Bob object at 0x7fba88982af0>, 'Tree Doctor Decision': False, 'Cost Utility': 0, 'Tree Utility': 2},\n",
       "       {'Agent': <model.behavior.Bob object at 0x7fba889aa4c0>, 'Tree Doctor Decision': True, 'Cost Utility': -1, 'Tree Utility': 2},\n",
       "       {'Agent': <model.behavior.Bob object at 0x7fba889aa940>, 'Tree Doctor Decision': True, 'Cost Utility': -1, 'Tree Utility': 2},\n",
       "       {'Agent': <model.behavior.Bob object at 0x7fba889b1460>, 'Tree Doctor Decision': True, 'Cost Utility': -1, 'Tree Utility': 2},\n",
       "       {'Agent': <model.behavior.Bob object at 0x7fba889b1b80>, 'Tree Doctor Decision': False, 'Cost Utility': 0, 'Tree Utility': 2},\n",
       "       {'Agent': <model.behavior.Bob object at 0x7fba889b1220>, 'Tree Doctor Decision': False, 'Cost Utility': 0, 'Tree Utility': 0}],\n",
       "      dtype=object)"
      ]
     },
     "execution_count": 12,
     "metadata": {},
     "output_type": "execute_result"
    }
   ],
   "source": [
    "bob_data"
   ]
  },
  {
   "cell_type": "code",
   "execution_count": 13,
   "metadata": {},
   "outputs": [],
   "source": [
    "bob_keys = bob_data[0].keys()"
   ]
  },
  {
   "cell_type": "code",
   "execution_count": 14,
   "metadata": {},
   "outputs": [
    {
     "data": {
      "text/plain": [
       "dict_keys(['Agent', 'Tree Doctor Decision', 'Cost Utility', 'Tree Utility'])"
      ]
     },
     "execution_count": 14,
     "metadata": {},
     "output_type": "execute_result"
    }
   ],
   "source": [
    "bob_keys"
   ]
  },
  {
   "cell_type": "code",
   "execution_count": 15,
   "metadata": {},
   "outputs": [
    {
     "data": {
      "text/plain": [
       "array([{'Tree Sick Outcome': 0, 'Tree Dead Outcome': 0},\n",
       "       {'Tree Sick Outcome': 0, 'Tree Dead Outcome': 0},\n",
       "       {'Tree Sick Outcome': 0, 'Tree Dead Outcome': 0},\n",
       "       {'Tree Sick Outcome': 1, 'Tree Dead Outcome': 1},\n",
       "       {'Tree Sick Outcome': 0, 'Tree Dead Outcome': 0},\n",
       "       {'Tree Sick Outcome': 0, 'Tree Dead Outcome': 0},\n",
       "       {'Tree Sick Outcome': 0, 'Tree Dead Outcome': 0},\n",
       "       {'Tree Sick Outcome': 0, 'Tree Dead Outcome': 0},\n",
       "       {'Tree Sick Outcome': 1, 'Tree Dead Outcome': 0},\n",
       "       {'Tree Sick Outcome': 1, 'Tree Dead Outcome': 1}], dtype=object)"
      ]
     },
     "execution_count": 15,
     "metadata": {},
     "output_type": "execute_result"
    }
   ],
   "source": [
    "world_data"
   ]
  },
  {
   "cell_type": "code",
   "execution_count": null,
   "metadata": {},
   "outputs": [],
   "source": []
  }
 ],
 "metadata": {
  "kernelspec": {
   "display_name": "Python 3",
   "language": "python",
   "name": "python3"
  },
  "language_info": {
   "codemirror_mode": {
    "name": "ipython",
    "version": 3
   },
   "file_extension": ".py",
   "mimetype": "text/x-python",
   "name": "python",
   "nbconvert_exporter": "python",
   "pygments_lexer": "ipython3",
   "version": "3.8.5"
  }
 },
 "nbformat": 4,
 "nbformat_minor": 4
}
